{
 "cells": [
  {
   "cell_type": "code",
   "execution_count": null,
   "id": "8478837f",
   "metadata": {},
   "outputs": [
    {
     "name": "stdout",
     "output_type": "stream",
     "text": [
      "[dbo].[whatsapp_rol_no_rol]\n"
     ]
    }
   ],
   "source": [
    "import pandas as pd\n",
    "import numpy as np\n",
    "import pyodbc\n",
    "import logging\n",
    "from datetime import datetime\n",
    "from dotenv import load_dotenv\n",
    "import os\n",
    "\n",
    "\n",
    "load_dotenv(dotenv_path=\"v.env\")\n",
    "print(os.getenv('tabla'))\n"
   ]
  },
  {
   "cell_type": "code",
   "execution_count": null,
   "id": "b0a4291f",
   "metadata": {},
   "outputs": [],
   "source": [
    "server = os.getenv('server')\n",
    "database = os.getenv('database')"
   ]
  },
  {
   "cell_type": "code",
   "execution_count": null,
   "id": "bfcac3c0",
   "metadata": {},
   "outputs": [],
   "source": [
    "carpeta = f'//{server}/stage/{database}/CSV' "
   ]
  },
  {
   "cell_type": "code",
   "execution_count": 2,
   "id": "98f77570",
   "metadata": {},
   "outputs": [],
   "source": [
    "resultado_importacion = {\n",
    "    'exitos': 0,\n",
    "    'errores_dict': {},\n",
    "    'descripcion_errores': {}\n",
    "}"
   ]
  },
  {
   "cell_type": "code",
   "execution_count": 3,
   "id": "02e81425",
   "metadata": {},
   "outputs": [],
   "source": [
    "def conectar_sql(server, database):\n",
    "    try:\n",
    "        conn = pyodbc.connect(\n",
    "            f'DRIVER={{ODBC Driver 17 for SQL Server}};SERVER={server};DATABASE={database};Trusted_Connection=yes;'\n",
    "        )\n",
    "        logging.info(\"Conexión a SQL establecida\")\n",
    "        return conn\n",
    "    except Exception as e:\n",
    "        logging.error(f\"Error al conectar a SQL: {e}\")\n",
    "        raise\n"
   ]
  },
  {
   "cell_type": "code",
   "execution_count": null,
   "id": "9882bdec",
   "metadata": {},
   "outputs": [],
   "source": [
    "def cargar_datos_csv(conn, tabla, carpeta):\n",
    "    global resultado_importacion\n",
    "    cursor = conn.cursor()\n",
    "    \n",
    "    cursor.execute(\"SELECT NombreArchivo FROM dbo.archivos_wsp_rol_no_rol_procesados\")\n",
    "    archivos_procesados = {row[0] for row in cursor.fetchall()}\n",
    "\n",
    "\n",
    "    exitos = 0\n",
    "    errores_dict = {}\n",
    "    descripcion_errores = {}\n",
    "    contador_error = 1\n",
    "\n",
    "    for archivo in os.listdir(carpeta):\n",
    "        if archivo.endswith('.csv') and archivo not in archivos_procesados:\n",
    "            ruta_completa = os.path.join(carpeta, archivo)\n",
    "\n",
    "            sql = f\"\"\"\n",
    "            BULK INSERT {tabla}\n",
    "            FROM '{ruta_completa}'\n",
    "            WITH (\n",
    "                FIRSTROW = 2,\n",
    "                FIELDTERMINATOR = '¦',\n",
    "                ROWTERMINATOR = '0x0a',\n",
    "                CODEPAGE = '1252'\n",
    "            );\n",
    "            \"\"\"\n",
    "            try:\n",
    "                print(f'Cargando {archivo}...')\n",
    "                cursor.execute(sql)\n",
    "                conn.commit()\n",
    "                print(f'{archivo} carga correcta.')\n",
    "\n",
    "\n",
    "                cursor.execute(\n",
    "                    \"INSERT INTO dbo.archivos_wsp_rol_no_rol_procesados (NombreArchivo) VALUES (?)\",\n",
    "                    archivo\n",
    "                )\n",
    "                conn.commit()\n",
    "\n",
    "                exitos += 1\n",
    "\n",
    "            except Exception as e:\n",
    "                print(f'Error importando {archivo}: {e}')\n",
    "                error_texto = str(e)\n",
    "\n",
    "                clave_existente = None\n",
    "                for clave, descripcion in descripcion_errores.items():\n",
    "                    if descripcion == error_texto:\n",
    "                        clave_existente = clave\n",
    "                        break\n",
    "\n",
    "                if clave_existente:\n",
    "                    errores_dict[clave_existente].append(archivo)\n",
    "                else:\n",
    "                    nueva_clave = f'error_{contador_error}'\n",
    "                    errores_dict[nueva_clave] = [archivo]\n",
    "                    descripcion_errores[nueva_clave] = error_texto\n",
    "                    contador_error += 1\n",
    "\n",
    "    cursor.close()\n",
    "\n",
    "    resultado_importacion['exitos'] = exitos\n",
    "    resultado_importacion['errores_dict'] = errores_dict\n",
    "    resultado_importacion['descripcion_errores'] = descripcion_errores"
   ]
  },
  {
   "cell_type": "code",
   "execution_count": 5,
   "id": "57a3e1b3",
   "metadata": {},
   "outputs": [],
   "source": [
    "def mostrar_resumen():\n",
    "    global resultado_importacion\n",
    "\n",
    "    exitos = resultado_importacion['exitos']\n",
    "    errores_dict = resultado_importacion['errores_dict']\n",
    "    descripcion_errores = resultado_importacion['descripcion_errores']\n",
    "\n",
    "    total_errores = sum(len(v) for v in errores_dict.values())\n",
    "\n",
    "    print(\"\\n---------- RESUMEN ----------\")\n",
    "    print(f\"Archivos importados exitosamente: {exitos}\")\n",
    "    print(f\"Archivos con errores: {total_errores}\")\n",
    "\n",
    "    if errores_dict:\n",
    "        print(\"\\nResumen de errores:\")\n",
    "        for clave, archivos in errores_dict.items():\n",
    "            print(f\"\\n{clave}:\")\n",
    "            print(f\" - Descripción: {descripcion_errores[clave]}\")\n",
    "            print(f\" - Archivos con este error:\")\n",
    "            for archivo in archivos:\n",
    "                print(f\"    · {archivo}\")"
   ]
  },
  {
   "cell_type": "code",
   "execution_count": 6,
   "id": "43bf6e43",
   "metadata": {},
   "outputs": [],
   "source": [
    "def seleccionar_datos(conn, tabla):\n",
    "    query = f\"SELECT * FROM {tabla} WHERE RUC IN  ('20100153832', '20502375912')\"\n",
    "    df = pd.read_sql(query, conn)\n",
    "    logging.info(f\"{df.shape[0]} registros cargados desde {tabla}\")\n",
    "    return df"
   ]
  },
  {
   "cell_type": "code",
   "execution_count": 7,
   "id": "6373ac7b",
   "metadata": {},
   "outputs": [],
   "source": [
    "def cargar_datos2(conn, tabla):\n",
    "    query = f\"SELECT * FROM {tabla}\"\n",
    "    df = pd.read_sql(query, conn)\n",
    "    logging.info(f\"{df.shape[0]} registros cargados desde {tabla}\")\n",
    "    return df"
   ]
  },
  {
   "cell_type": "code",
   "execution_count": 8,
   "id": "0c9af3f5",
   "metadata": {},
   "outputs": [
    {
     "name": "stdout",
     "output_type": "stream",
     "text": [
      "Cargando ne-export-2025.08.20-19.43 (1)_modificado.csv...\n",
      "ne-export-2025.08.20-19.43 (1)_modificado.csv carga correcta.\n",
      "Cargando presuspension_sf_emp B1 10.01_modificado.csv...\n",
      "presuspension_sf_emp B1 10.01_modificado.csv carga correcta.\n",
      "Cargando presuspension_sf_emp B1 11.07_modificado.csv...\n",
      "presuspension_sf_emp B1 11.07_modificado.csv carga correcta.\n",
      "Cargando presuspension_sf_emp B1 13.06_modificado.csv...\n",
      "presuspension_sf_emp B1 13.06_modificado.csv carga correcta.\n",
      "Cargando presuspension_sf_emp B1 14.02_modificado.csv...\n",
      "presuspension_sf_emp B1 14.02_modificado.csv carga correcta.\n",
      "Cargando presuspension_sf_emp B1 14.04_modificado.csv...\n",
      "presuspension_sf_emp B1 14.04_modificado.csv carga correcta.\n",
      "Cargando presuspension_sf_emp B1 15.08_modificado.csv...\n",
      "presuspension_sf_emp B1 15.08_modificado.csv carga correcta.\n",
      "Cargando presuspension_sf_emp B1 16.05_modificado.csv...\n",
      "presuspension_sf_emp B1 16.05_modificado.csv carga correcta.\n",
      "Cargando presuspension_sf_emp B1 17.01_modificado.csv...\n",
      "presuspension_sf_emp B1 17.01_modificado.csv carga correcta.\n",
      "Cargando presuspension_sf_emp B1 17.02_modificado.csv...\n",
      "presuspension_sf_emp B1 17.02_modificado.csv carga correcta.\n",
      "Cargando presuspension_sf_emp B1 17.03_modificado.csv...\n",
      "presuspension_sf_emp B1 17.03_modificado.csv carga correcta.\n",
      "Cargando presuspension_sf_emp B1 19.03_modificado.csv...\n",
      "presuspension_sf_emp B1 19.03_modificado.csv carga correcta.\n",
      "Cargando presuspension_sf_emp B1 20.05_modificado.csv...\n",
      "presuspension_sf_emp B1 20.05_modificado.csv carga correcta.\n",
      "Cargando presuspension_sf_emp B1 20.06_modificado.csv...\n",
      "presuspension_sf_emp B1 20.06_modificado.csv carga correcta.\n",
      "Cargando presuspension_sf_emp B1 21.04_modificado.csv...\n",
      "presuspension_sf_emp B1 21.04_modificado.csv carga correcta.\n",
      "Cargando presuspension_sf_emp B1 21.07_modificado.csv...\n",
      "presuspension_sf_emp B1 21.07_modificado.csv carga correcta.\n",
      "Cargando presuspension_sf_emp B2 10.01_modificado.csv...\n",
      "presuspension_sf_emp B2 10.01_modificado.csv carga correcta.\n",
      "Cargando presuspension_sf_emp B2 11.07_modificado.csv...\n",
      "presuspension_sf_emp B2 11.07_modificado.csv carga correcta.\n",
      "Cargando presuspension_sf_emp B2 13.06_modificado.csv...\n",
      "presuspension_sf_emp B2 13.06_modificado.csv carga correcta.\n",
      "Cargando presuspension_sf_emp B2 14.02_modificado.csv...\n",
      "presuspension_sf_emp B2 14.02_modificado.csv carga correcta.\n",
      "Cargando presuspension_sf_emp B2 14.04_modificado.csv...\n",
      "presuspension_sf_emp B2 14.04_modificado.csv carga correcta.\n",
      "Cargando presuspension_sf_emp B2 15.08_modificado.csv...\n",
      "presuspension_sf_emp B2 15.08_modificado.csv carga correcta.\n",
      "Cargando presuspension_sf_emp B2 16.05_modificado.csv...\n",
      "presuspension_sf_emp B2 16.05_modificado.csv carga correcta.\n",
      "Cargando presuspension_sf_emp B2 17.01_modificado.csv...\n",
      "presuspension_sf_emp B2 17.01_modificado.csv carga correcta.\n",
      "Cargando presuspension_sf_emp B2 17.02_modificado.csv...\n",
      "presuspension_sf_emp B2 17.02_modificado.csv carga correcta.\n",
      "Cargando presuspension_sf_emp B2 17.03_modificado.csv...\n",
      "presuspension_sf_emp B2 17.03_modificado.csv carga correcta.\n",
      "Cargando presuspension_sf_emp B2 19.03_modificado.csv...\n",
      "presuspension_sf_emp B2 19.03_modificado.csv carga correcta.\n",
      "Cargando presuspension_sf_emp B2 20.05_modificado.csv...\n",
      "presuspension_sf_emp B2 20.05_modificado.csv carga correcta.\n",
      "Cargando presuspension_sf_emp B2 20.06_modificado.csv...\n",
      "presuspension_sf_emp B2 20.06_modificado.csv carga correcta.\n",
      "Cargando presuspension_sf_emp B2 21.04_modificado.csv...\n",
      "presuspension_sf_emp B2 21.04_modificado.csv carga correcta.\n",
      "Cargando presuspension_sf_emp B2 21.07_modificado.csv...\n",
      "presuspension_sf_emp B2 21.07_modificado.csv carga correcta.\n",
      "Cargando presuspension_sf_emp B3 14.02_modificado.csv...\n",
      "presuspension_sf_emp B3 14.02_modificado.csv carga correcta.\n",
      "Cargando presuspension_sf_emp B3 15.08_modificado.csv...\n",
      "presuspension_sf_emp B3 15.08_modificado.csv carga correcta.\n"
     ]
    }
   ],
   "source": [
    "if __name__ == \"__main__\":\n",
    "    conexion = conectar_sql(os.getenv('server'), os.getenv('database'))\n",
    "    cargar_datos_csv(conexion, os.getenv('tabla'), carpeta)\n",
    "    conexion.close()"
   ]
  },
  {
   "cell_type": "code",
   "execution_count": 9,
   "id": "77ce54f7",
   "metadata": {},
   "outputs": [
    {
     "name": "stdout",
     "output_type": "stream",
     "text": [
      "\n",
      "---------- RESUMEN ----------\n",
      "Archivos importados exitosamente: 33\n",
      "Archivos con errores: 0\n"
     ]
    }
   ],
   "source": [
    "mostrar_resumen()"
   ]
  },
  {
   "cell_type": "code",
   "execution_count": null,
   "id": "7f990697",
   "metadata": {},
   "outputs": [],
   "source": [
    "#conn = conectar_sql(os.getenv('server'), os.getenv('database'))\n",
    "#df = cargar_datos(conn, os.getenv('tabla'))\n",
    "#df = seleccionar_datos(conn, os.getenv('tabla'))\n",
    "#df\n",
    "#conn.close()\n"
   ]
  },
  {
   "cell_type": "code",
   "execution_count": 10,
   "id": "24806508",
   "metadata": {},
   "outputs": [
    {
     "name": "stderr",
     "output_type": "stream",
     "text": [
      "C:\\Users\\BBARTOLOMEE\\AppData\\Local\\Temp\\ipykernel_10712\\1950544438.py:3: UserWarning: pandas only supports SQLAlchemy connectable (engine/connection) or database string URI or sqlite3 DBAPI2 connection. Other DBAPI2 objects are not tested. Please consider using SQLAlchemy.\n",
      "  df = pd.read_sql(query, conn)\n"
     ]
    }
   ],
   "source": [
    "conn = conectar_sql(os.getenv('server'), os.getenv('database'))\n",
    "df = cargar_datos(conn, os.getenv('tabla'))\n",
    "df\n",
    "conn.close()"
   ]
  },
  {
   "cell_type": "code",
   "execution_count": 12,
   "id": "b9b7c43e",
   "metadata": {},
   "outputs": [],
   "source": [
    "df_cambios = df.copy()"
   ]
  },
  {
   "cell_type": "code",
   "execution_count": 18,
   "id": "7bc2bdc2",
   "metadata": {},
   "outputs": [],
   "source": [
    "lista_nueva = list(df_cambios.columns)"
   ]
  },
  {
   "cell_type": "code",
   "execution_count": 20,
   "id": "88c1b10c",
   "metadata": {},
   "outputs": [
    {
     "data": {
      "text/plain": [
       "Index(['campaign_name', 'contact_group_name', 'notification_name',\n",
       "       'notification_start_date', 'notification_end_date',\n",
       "       'notification_status', 'customer_id', 'session_id', 'contact_id',\n",
       "       'phone', 'first_name', 'last_name', 'email', 'notification_sent_date',\n",
       "       'sent', 'delivered', 'read', 'answered', 'error_reason', 'message',\n",
       "       'conversation', 'notificationInstanceId'],\n",
       "      dtype='object')"
      ]
     },
     "execution_count": 20,
     "metadata": {},
     "output_type": "execute_result"
    }
   ],
   "source": [
    "df_cambios.columns"
   ]
  },
  {
   "cell_type": "code",
   "execution_count": 25,
   "id": "7b584f98",
   "metadata": {},
   "outputs": [],
   "source": [
    "lista_inclusion = ['campaign_name','sent','read','answered','delivered','notification_sent_date']"
   ]
  },
  {
   "cell_type": "code",
   "execution_count": 26,
   "id": "ac79d913",
   "metadata": {},
   "outputs": [],
   "source": [
    "for i in lista_inclusion:\n",
    "    lista_nueva.remove(i)\n"
   ]
  },
  {
   "cell_type": "code",
   "execution_count": 27,
   "id": "33b0311f",
   "metadata": {},
   "outputs": [
    {
     "data": {
      "text/plain": [
       "['contact_group_name',\n",
       " 'notification_name',\n",
       " 'notification_start_date',\n",
       " 'notification_end_date',\n",
       " 'notification_status',\n",
       " 'customer_id',\n",
       " 'session_id',\n",
       " 'contact_id',\n",
       " 'phone',\n",
       " 'first_name',\n",
       " 'last_name',\n",
       " 'email',\n",
       " 'error_reason',\n",
       " 'message',\n",
       " 'conversation',\n",
       " 'notificationInstanceId']"
      ]
     },
     "execution_count": 27,
     "metadata": {},
     "output_type": "execute_result"
    }
   ],
   "source": [
    "lista_nueva"
   ]
  },
  {
   "cell_type": "code",
   "execution_count": 32,
   "id": "a38dcebb",
   "metadata": {},
   "outputs": [],
   "source": [
    "df_cambios.drop(columns=lista_nueva, inplace = True)"
   ]
  },
  {
   "cell_type": "code",
   "execution_count": 33,
   "id": "e02d4316",
   "metadata": {},
   "outputs": [
    {
     "data": {
      "text/html": [
       "<div>\n",
       "<style scoped>\n",
       "    .dataframe tbody tr th:only-of-type {\n",
       "        vertical-align: middle;\n",
       "    }\n",
       "\n",
       "    .dataframe tbody tr th {\n",
       "        vertical-align: top;\n",
       "    }\n",
       "\n",
       "    .dataframe thead th {\n",
       "        text-align: right;\n",
       "    }\n",
       "</style>\n",
       "<table border=\"1\" class=\"dataframe\">\n",
       "  <thead>\n",
       "    <tr style=\"text-align: right;\">\n",
       "      <th></th>\n",
       "      <th>campaign_name</th>\n",
       "      <th>notification_sent_date</th>\n",
       "      <th>sent</th>\n",
       "      <th>delivered</th>\n",
       "      <th>read</th>\n",
       "      <th>answered</th>\n",
       "    </tr>\n",
       "  </thead>\n",
       "  <tbody>\n",
       "    <tr>\n",
       "      <th>count</th>\n",
       "      <td>357798</td>\n",
       "      <td>357798</td>\n",
       "      <td>357798</td>\n",
       "      <td>357798</td>\n",
       "      <td>357798</td>\n",
       "      <td>357798</td>\n",
       "    </tr>\n",
       "    <tr>\n",
       "      <th>unique</th>\n",
       "      <td>3</td>\n",
       "      <td>48241</td>\n",
       "      <td>2</td>\n",
       "      <td>2</td>\n",
       "      <td>2</td>\n",
       "      <td>2</td>\n",
       "    </tr>\n",
       "    <tr>\n",
       "      <th>top</th>\n",
       "      <td>Recibo Digital Rol</td>\n",
       "      <td>2025-06-09 12:23:31</td>\n",
       "      <td>1</td>\n",
       "      <td>1</td>\n",
       "      <td>1</td>\n",
       "      <td>0</td>\n",
       "    </tr>\n",
       "    <tr>\n",
       "      <th>freq</th>\n",
       "      <td>195903</td>\n",
       "      <td>200</td>\n",
       "      <td>336571</td>\n",
       "      <td>322035</td>\n",
       "      <td>222959</td>\n",
       "      <td>309578</td>\n",
       "    </tr>\n",
       "  </tbody>\n",
       "</table>\n",
       "</div>"
      ],
      "text/plain": [
       "             campaign_name notification_sent_date    sent delivered    read  \\\n",
       "count               357798                 357798  357798    357798  357798   \n",
       "unique                   3                  48241       2         2       2   \n",
       "top     Recibo Digital Rol    2025-06-09 12:23:31       1         1       1   \n",
       "freq                195903                    200  336571    322035  222959   \n",
       "\n",
       "       answered  \n",
       "count    357798  \n",
       "unique        2  \n",
       "top           0  \n",
       "freq     309578  "
      ]
     },
     "execution_count": 33,
     "metadata": {},
     "output_type": "execute_result"
    }
   ],
   "source": [
    "df_cambios.describe()"
   ]
  },
  {
   "cell_type": "code",
   "execution_count": 35,
   "id": "761adf39",
   "metadata": {},
   "outputs": [
    {
     "data": {
      "text/html": [
       "<div>\n",
       "<style scoped>\n",
       "    .dataframe tbody tr th:only-of-type {\n",
       "        vertical-align: middle;\n",
       "    }\n",
       "\n",
       "    .dataframe tbody tr th {\n",
       "        vertical-align: top;\n",
       "    }\n",
       "\n",
       "    .dataframe thead th {\n",
       "        text-align: right;\n",
       "    }\n",
       "</style>\n",
       "<table border=\"1\" class=\"dataframe\">\n",
       "  <thead>\n",
       "    <tr style=\"text-align: right;\">\n",
       "      <th></th>\n",
       "      <th>sent</th>\n",
       "      <th>read</th>\n",
       "      <th>delivered</th>\n",
       "      <th>answered</th>\n",
       "    </tr>\n",
       "  </thead>\n",
       "  <tbody>\n",
       "    <tr>\n",
       "      <th>count</th>\n",
       "      <td>357798</td>\n",
       "      <td>357798</td>\n",
       "      <td>357798</td>\n",
       "      <td>357798</td>\n",
       "    </tr>\n",
       "    <tr>\n",
       "      <th>unique</th>\n",
       "      <td>2</td>\n",
       "      <td>2</td>\n",
       "      <td>2</td>\n",
       "      <td>2</td>\n",
       "    </tr>\n",
       "    <tr>\n",
       "      <th>top</th>\n",
       "      <td>1</td>\n",
       "      <td>1</td>\n",
       "      <td>1</td>\n",
       "      <td>0</td>\n",
       "    </tr>\n",
       "    <tr>\n",
       "      <th>freq</th>\n",
       "      <td>336571</td>\n",
       "      <td>222959</td>\n",
       "      <td>322035</td>\n",
       "      <td>309578</td>\n",
       "    </tr>\n",
       "  </tbody>\n",
       "</table>\n",
       "</div>"
      ],
      "text/plain": [
       "          sent    read delivered answered\n",
       "count   357798  357798    357798   357798\n",
       "unique       2       2         2        2\n",
       "top          1       1         1        0\n",
       "freq    336571  222959    322035   309578"
      ]
     },
     "execution_count": 35,
     "metadata": {},
     "output_type": "execute_result"
    }
   ],
   "source": [
    "df_cambios[['sent','read','delivered','answered']].describe()"
   ]
  }
 ],
 "metadata": {
  "kernelspec": {
   "display_name": "Python 3",
   "language": "python",
   "name": "python3"
  },
  "language_info": {
   "codemirror_mode": {
    "name": "ipython",
    "version": 3
   },
   "file_extension": ".py",
   "mimetype": "text/x-python",
   "name": "python",
   "nbconvert_exporter": "python",
   "pygments_lexer": "ipython3",
   "version": "3.11.1"
  }
 },
 "nbformat": 4,
 "nbformat_minor": 5
}
