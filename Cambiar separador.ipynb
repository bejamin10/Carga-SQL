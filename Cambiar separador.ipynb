{
 "cells": [
  {
   "cell_type": "code",
   "execution_count": 1,
   "id": "8bc77b51",
   "metadata": {},
   "outputs": [],
   "source": [
    "import os\n",
    "import csv"
   ]
  },
  {
   "cell_type": "code",
   "execution_count": 2,
   "id": "942b1fed",
   "metadata": {},
   "outputs": [
    {
     "name": "stdout",
     "output_type": "stream",
     "text": [
      "Archivo procesado: C:\\Users\\BBARTOLOMEE\\Desktop\\Automatizacion de Tareas\\TSV a CSV\\CSV\\ne-export-2025.08.20-19.43 (1)_modificado.csv\n",
      "Archivo procesado: C:\\Users\\BBARTOLOMEE\\Desktop\\Automatizacion de Tareas\\TSV a CSV\\CSV\\presuspension_sf_emp B1 10.01_modificado.csv\n",
      "Archivo procesado: C:\\Users\\BBARTOLOMEE\\Desktop\\Automatizacion de Tareas\\TSV a CSV\\CSV\\presuspension_sf_emp B1 11.07_modificado.csv\n",
      "Archivo procesado: C:\\Users\\BBARTOLOMEE\\Desktop\\Automatizacion de Tareas\\TSV a CSV\\CSV\\presuspension_sf_emp B1 13.06_modificado.csv\n",
      "Archivo procesado: C:\\Users\\BBARTOLOMEE\\Desktop\\Automatizacion de Tareas\\TSV a CSV\\CSV\\presuspension_sf_emp B1 14.02_modificado.csv\n",
      "Archivo procesado: C:\\Users\\BBARTOLOMEE\\Desktop\\Automatizacion de Tareas\\TSV a CSV\\CSV\\presuspension_sf_emp B1 14.04_modificado.csv\n",
      "Archivo procesado: C:\\Users\\BBARTOLOMEE\\Desktop\\Automatizacion de Tareas\\TSV a CSV\\CSV\\presuspension_sf_emp B1 15.08_modificado.csv\n",
      "Archivo procesado: C:\\Users\\BBARTOLOMEE\\Desktop\\Automatizacion de Tareas\\TSV a CSV\\CSV\\presuspension_sf_emp B1 16.05_modificado.csv\n",
      "Archivo procesado: C:\\Users\\BBARTOLOMEE\\Desktop\\Automatizacion de Tareas\\TSV a CSV\\CSV\\presuspension_sf_emp B1 17.01_modificado.csv\n",
      "Archivo procesado: C:\\Users\\BBARTOLOMEE\\Desktop\\Automatizacion de Tareas\\TSV a CSV\\CSV\\presuspension_sf_emp B1 17.02_modificado.csv\n",
      "Archivo procesado: C:\\Users\\BBARTOLOMEE\\Desktop\\Automatizacion de Tareas\\TSV a CSV\\CSV\\presuspension_sf_emp B1 17.03_modificado.csv\n",
      "Archivo procesado: C:\\Users\\BBARTOLOMEE\\Desktop\\Automatizacion de Tareas\\TSV a CSV\\CSV\\presuspension_sf_emp B1 19.03_modificado.csv\n",
      "Archivo procesado: C:\\Users\\BBARTOLOMEE\\Desktop\\Automatizacion de Tareas\\TSV a CSV\\CSV\\presuspension_sf_emp B1 20.05_modificado.csv\n",
      "Archivo procesado: C:\\Users\\BBARTOLOMEE\\Desktop\\Automatizacion de Tareas\\TSV a CSV\\CSV\\presuspension_sf_emp B1 20.06_modificado.csv\n",
      "Archivo procesado: C:\\Users\\BBARTOLOMEE\\Desktop\\Automatizacion de Tareas\\TSV a CSV\\CSV\\presuspension_sf_emp B1 21.04_modificado.csv\n",
      "Archivo procesado: C:\\Users\\BBARTOLOMEE\\Desktop\\Automatizacion de Tareas\\TSV a CSV\\CSV\\presuspension_sf_emp B1 21.07_modificado.csv\n",
      "Archivo procesado: C:\\Users\\BBARTOLOMEE\\Desktop\\Automatizacion de Tareas\\TSV a CSV\\CSV\\presuspension_sf_emp B2 10.01_modificado.csv\n",
      "Archivo procesado: C:\\Users\\BBARTOLOMEE\\Desktop\\Automatizacion de Tareas\\TSV a CSV\\CSV\\presuspension_sf_emp B2 11.07_modificado.csv\n",
      "Archivo procesado: C:\\Users\\BBARTOLOMEE\\Desktop\\Automatizacion de Tareas\\TSV a CSV\\CSV\\presuspension_sf_emp B2 13.06_modificado.csv\n",
      "Archivo procesado: C:\\Users\\BBARTOLOMEE\\Desktop\\Automatizacion de Tareas\\TSV a CSV\\CSV\\presuspension_sf_emp B2 14.02_modificado.csv\n",
      "Archivo procesado: C:\\Users\\BBARTOLOMEE\\Desktop\\Automatizacion de Tareas\\TSV a CSV\\CSV\\presuspension_sf_emp B2 14.04_modificado.csv\n",
      "Archivo procesado: C:\\Users\\BBARTOLOMEE\\Desktop\\Automatizacion de Tareas\\TSV a CSV\\CSV\\presuspension_sf_emp B2 15.08_modificado.csv\n",
      "Archivo procesado: C:\\Users\\BBARTOLOMEE\\Desktop\\Automatizacion de Tareas\\TSV a CSV\\CSV\\presuspension_sf_emp B2 16.05_modificado.csv\n",
      "Archivo procesado: C:\\Users\\BBARTOLOMEE\\Desktop\\Automatizacion de Tareas\\TSV a CSV\\CSV\\presuspension_sf_emp B2 17.01_modificado.csv\n",
      "Archivo procesado: C:\\Users\\BBARTOLOMEE\\Desktop\\Automatizacion de Tareas\\TSV a CSV\\CSV\\presuspension_sf_emp B2 17.02_modificado.csv\n",
      "Archivo procesado: C:\\Users\\BBARTOLOMEE\\Desktop\\Automatizacion de Tareas\\TSV a CSV\\CSV\\presuspension_sf_emp B2 17.03_modificado.csv\n",
      "Archivo procesado: C:\\Users\\BBARTOLOMEE\\Desktop\\Automatizacion de Tareas\\TSV a CSV\\CSV\\presuspension_sf_emp B2 19.03_modificado.csv\n",
      "Archivo procesado: C:\\Users\\BBARTOLOMEE\\Desktop\\Automatizacion de Tareas\\TSV a CSV\\CSV\\presuspension_sf_emp B2 20.05_modificado.csv\n",
      "Archivo procesado: C:\\Users\\BBARTOLOMEE\\Desktop\\Automatizacion de Tareas\\TSV a CSV\\CSV\\presuspension_sf_emp B2 20.06_modificado.csv\n",
      "Archivo procesado: C:\\Users\\BBARTOLOMEE\\Desktop\\Automatizacion de Tareas\\TSV a CSV\\CSV\\presuspension_sf_emp B2 21.04_modificado.csv\n",
      "Archivo procesado: C:\\Users\\BBARTOLOMEE\\Desktop\\Automatizacion de Tareas\\TSV a CSV\\CSV\\presuspension_sf_emp B2 21.07_modificado.csv\n",
      "Archivo procesado: C:\\Users\\BBARTOLOMEE\\Desktop\\Automatizacion de Tareas\\TSV a CSV\\CSV\\presuspension_sf_emp B3 14.02_modificado.csv\n",
      "Archivo procesado: C:\\Users\\BBARTOLOMEE\\Desktop\\Automatizacion de Tareas\\TSV a CSV\\CSV\\presuspension_sf_emp B3 15.08_modificado.csv\n"
     ]
    }
   ],
   "source": [
    "carpeta_csv = r'C:\\Users\\BBARTOLOMEE\\Desktop\\Automatizacion de Tareas\\TSV a CSV\\CSV sep antiguo'\n",
    "nuevo_separador = '¦'\n",
    "extension = '.csv'\n",
    "\n",
    "carpeta_salida = r'C:\\Users\\BBARTOLOMEE\\Desktop\\Automatizacion de Tareas\\TSV a CSV\\CSV'\n",
    "\n",
    "for nombre_archivo in os.listdir(carpeta_csv):\n",
    "    if nombre_archivo.endswith(extension):\n",
    "        ruta_entrada = os.path.join(carpeta_csv, nombre_archivo)\n",
    "        ruta_salida = os.path.join(carpeta_salida, f\"{os.path.splitext(nombre_archivo)[0]}_modificado.csv\")\n",
    "\n",
    "        with open(ruta_entrada, mode='r', encoding='latin-1', newline='') as archivo_entrada:\n",
    "            lector = csv.reader(archivo_entrada, delimiter=',', quotechar='\"')\n",
    "            filas = list(lector)\n",
    "\n",
    "        with open(ruta_salida, mode='w', encoding='latin-1', newline='') as archivo_salida:\n",
    "            escritor = csv.writer(archivo_salida, delimiter=nuevo_separador, quotechar='\"', quoting=csv.QUOTE_MINIMAL)\n",
    "            escritor.writerows(filas)\n",
    "\n",
    "        print(f\"Archivo procesado: {ruta_salida}\")\n"
   ]
  }
 ],
 "metadata": {
  "kernelspec": {
   "display_name": "Python 3",
   "language": "python",
   "name": "python3"
  },
  "language_info": {
   "codemirror_mode": {
    "name": "ipython",
    "version": 3
   },
   "file_extension": ".py",
   "mimetype": "text/x-python",
   "name": "python",
   "nbconvert_exporter": "python",
   "pygments_lexer": "ipython3",
   "version": "3.11.1"
  }
 },
 "nbformat": 4,
 "nbformat_minor": 5
}
