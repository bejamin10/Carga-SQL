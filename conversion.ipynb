{
 "cells": [
  {
   "cell_type": "code",
   "execution_count": 1,
   "id": "68a49559",
   "metadata": {},
   "outputs": [],
   "source": [
    "import os\n",
    "import csv"
   ]
  },
  {
   "cell_type": "code",
   "execution_count": 2,
   "id": "37a0f49c",
   "metadata": {},
   "outputs": [],
   "source": [
    "carpeta = r\"C:\\Users\\BBARTOLOMEE\\Desktop\\Automatizacion de Tareas\\TSV a CSV\\TSV\""
   ]
  },
  {
   "cell_type": "code",
   "execution_count": 3,
   "id": "17806944",
   "metadata": {},
   "outputs": [
    {
     "name": "stdout",
     "output_type": "stream",
     "text": [
      "Convertido: ne-export-2025.08.20-19.43 (1).tsv → ne-export-2025.08.20-19.43 (1).csv\n",
      "Convertido: presuspension_sf_emp B1 10.01.tsv → presuspension_sf_emp B1 10.01.csv\n",
      "Convertido: presuspension_sf_emp B1 11.07.tsv → presuspension_sf_emp B1 11.07.csv\n",
      "Convertido: presuspension_sf_emp B1 13.06.tsv → presuspension_sf_emp B1 13.06.csv\n",
      "Convertido: presuspension_sf_emp B1 14.02.tsv → presuspension_sf_emp B1 14.02.csv\n",
      "Convertido: presuspension_sf_emp B1 14.04.tsv → presuspension_sf_emp B1 14.04.csv\n",
      "Convertido: presuspension_sf_emp B1 15.08.tsv → presuspension_sf_emp B1 15.08.csv\n",
      "Convertido: presuspension_sf_emp B1 16.05.tsv → presuspension_sf_emp B1 16.05.csv\n",
      "Convertido: presuspension_sf_emp B1 17.01.tsv → presuspension_sf_emp B1 17.01.csv\n",
      "Convertido: presuspension_sf_emp B1 17.02.tsv → presuspension_sf_emp B1 17.02.csv\n",
      "Convertido: presuspension_sf_emp B1 17.03.tsv → presuspension_sf_emp B1 17.03.csv\n",
      "Convertido: presuspension_sf_emp B1 19.03.tsv → presuspension_sf_emp B1 19.03.csv\n",
      "Convertido: presuspension_sf_emp B1 20.05.tsv → presuspension_sf_emp B1 20.05.csv\n",
      "Convertido: presuspension_sf_emp B1 20.06.tsv → presuspension_sf_emp B1 20.06.csv\n",
      "Convertido: presuspension_sf_emp B1 21.04.tsv → presuspension_sf_emp B1 21.04.csv\n",
      "Convertido: presuspension_sf_emp B1 21.07.tsv → presuspension_sf_emp B1 21.07.csv\n",
      "Convertido: presuspension_sf_emp B2 10.01.tsv → presuspension_sf_emp B2 10.01.csv\n",
      "Convertido: presuspension_sf_emp B2 11.07.tsv → presuspension_sf_emp B2 11.07.csv\n",
      "Convertido: presuspension_sf_emp B2 13.06.tsv → presuspension_sf_emp B2 13.06.csv\n",
      "Convertido: presuspension_sf_emp B2 14.02.tsv → presuspension_sf_emp B2 14.02.csv\n",
      "Convertido: presuspension_sf_emp B2 14.04.tsv → presuspension_sf_emp B2 14.04.csv\n",
      "Convertido: presuspension_sf_emp B2 15.08.tsv → presuspension_sf_emp B2 15.08.csv\n",
      "Convertido: presuspension_sf_emp B2 16.05.tsv → presuspension_sf_emp B2 16.05.csv\n",
      "Convertido: presuspension_sf_emp B2 17.01.tsv → presuspension_sf_emp B2 17.01.csv\n",
      "Convertido: presuspension_sf_emp B2 17.02.tsv → presuspension_sf_emp B2 17.02.csv\n",
      "Convertido: presuspension_sf_emp B2 17.03.tsv → presuspension_sf_emp B2 17.03.csv\n",
      "Convertido: presuspension_sf_emp B2 19.03.tsv → presuspension_sf_emp B2 19.03.csv\n",
      "Convertido: presuspension_sf_emp B2 20.05.tsv → presuspension_sf_emp B2 20.05.csv\n",
      "Convertido: presuspension_sf_emp B2 20.06.tsv → presuspension_sf_emp B2 20.06.csv\n",
      "Convertido: presuspension_sf_emp B2 21.04.tsv → presuspension_sf_emp B2 21.04.csv\n",
      "Convertido: presuspension_sf_emp B2 21.07.tsv → presuspension_sf_emp B2 21.07.csv\n",
      "Convertido: presuspension_sf_emp B3 14.02.tsv → presuspension_sf_emp B3 14.02.csv\n",
      "Convertido: presuspension_sf_emp B3 15.08.tsv → presuspension_sf_emp B3 15.08.csv\n"
     ]
    }
   ],
   "source": [
    "for nombre_archivo in os.listdir(carpeta):\n",
    "    if nombre_archivo.endswith(\".tsv\"):\n",
    "        ruta_tsv = os.path.join(carpeta, nombre_archivo)\n",
    "        ruta_csv = os.path.join(carpeta, nombre_archivo.replace(\".tsv\", \".csv\"))\n",
    "\n",
    "        with open(ruta_tsv, 'r', encoding='latin-1') as tsv_file:\n",
    "            lector = csv.reader(tsv_file, delimiter='\\t')\n",
    "            with open(ruta_csv, 'w', newline='', encoding='latin-1') as csv_file:\n",
    "                escritor = csv.writer(csv_file)\n",
    "                for fila in lector:\n",
    "                    escritor.writerow(fila)\n",
    "\n",
    "        print(f\"Convertido: {nombre_archivo} → {os.path.basename(ruta_csv)}\")\n"
   ]
  }
 ],
 "metadata": {
  "kernelspec": {
   "display_name": "Python 3",
   "language": "python",
   "name": "python3"
  },
  "language_info": {
   "codemirror_mode": {
    "name": "ipython",
    "version": 3
   },
   "file_extension": ".py",
   "mimetype": "text/x-python",
   "name": "python",
   "nbconvert_exporter": "python",
   "pygments_lexer": "ipython3",
   "version": "3.11.1"
  }
 },
 "nbformat": 4,
 "nbformat_minor": 5
}
